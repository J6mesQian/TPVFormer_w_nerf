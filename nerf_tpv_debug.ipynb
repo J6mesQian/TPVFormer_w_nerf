{
 "cells": [
  {
   "cell_type": "code",
   "execution_count": 2,
   "metadata": {},
   "outputs": [
    {
     "name": "stdout",
     "output_type": "stream",
     "text": [
      "No CUDA runtime is found, using CUDA_HOME='/usr/local/cuda'\n"
     ]
    }
   ],
   "source": [
    "import numpy as np\n",
    "import torch\n",
    "import numba as nb\n",
    "from torch.utils import data\n",
    "from dataloader.transform_3d import PadMultiViewImage, NormalizeMultiviewImage, \\\n",
    "    PhotoMetricDistortionMultiViewImage, RandomScaleImageMultiViewImage\n",
    "from typing import List, Union\n",
    "from torch import Tensor\n",
    "import torch.nn.functional as F\n",
    "import os\n",
    "import numpy as np\n",
    "from torch.utils import data\n",
    "import yaml\n",
    "import pickle\n",
    "from pyquaternion import Quaternion"
   ]
  },
  {
   "cell_type": "code",
   "execution_count": 2,
   "metadata": {},
   "outputs": [],
   "source": [
    "# load npy\n",
    "vox_feat = np.load('/home/jovyan/TPVFormer/out/tpv_nerf_feat_pred/2024-01-16-10-52-08-TPVformer_w_NeRF_exp0/val_output/2024-01-16-10-52-08-TPVformer_w_NeRF_exp0/epoch_3/952cb0bcd89b4ca4b904cdcbbf595523/2468-b4b5e858cd9d4cf9bdb01098ea7d3c45_pred_vox_feat.npy')\n"
   ]
  },
  {
   "cell_type": "code",
   "execution_count": 17,
   "metadata": {},
   "outputs": [
    {
     "data": {
      "text/plain": [
       "0.4485706"
      ]
     },
     "execution_count": 17,
     "metadata": {},
     "output_type": "execute_result"
    }
   ],
   "source": [
    "vox_feat.max()"
   ]
  },
  {
   "cell_type": "code",
   "execution_count": 16,
   "metadata": {},
   "outputs": [
    {
     "data": {
      "text/plain": [
       "0.062826306"
      ]
     },
     "execution_count": 16,
     "metadata": {},
     "output_type": "execute_result"
    }
   ],
   "source": [
    "vox_feat[0,:,0,4,0].max()"
   ]
  },
  {
   "cell_type": "code",
   "execution_count": 19,
   "metadata": {},
   "outputs": [
    {
     "data": {
      "text/plain": [
       "0.15658337"
      ]
     },
     "execution_count": 19,
     "metadata": {},
     "output_type": "execute_result"
    }
   ],
   "source": [
    "np.mean(vox_feat, axis=1).max()"
   ]
  },
  {
   "cell_type": "code",
   "execution_count": 20,
   "metadata": {},
   "outputs": [
    {
     "data": {
      "image/png": "[encoded data removed]",
      "text/plain": [
       "<Figure size 720x432 with 1 Axes>"
      ]
     },
     "metadata": {
      "needs_background": "light"
     },
     "output_type": "display_data"
    }
   ],
   "source": [
    "import matplotlib.pyplot as plt\n",
    "\n",
    "flattened_embeddings = vox_feat.flatten()\n",
    "\n",
    "# Plotting the distribution of these means\n",
    "plt.figure(figsize=(10, 6))\n",
    "plt.hist(flattened_embeddings, bins=50, alpha=0.7, color='blue')\n",
    "plt.title('Distribution of Mean Embeddings')\n",
    "plt.xlabel('Mean Value')\n",
    "plt.ylabel('Frequency')\n",
    "plt.grid(True)\n",
    "plt.show()"
   ]
  },
  {
   "cell_type": "code",
   "execution_count": 14,
   "metadata": {},
   "outputs": [
    {
     "data": {
      "image/png": "[encoded data removed]",
      "text/plain": [
       "<Figure size 720x432 with 1 Axes>"
      ]
     },
     "metadata": {
      "needs_background": "light"
     },
     "output_type": "display_data"
    }
   ],
   "source": [
    "import matplotlib.pyplot as plt\n",
    "\n",
    "# Calculating the mean across the dimension with 64 embeddings\n",
    "# The resulting shape will be (1, 100, 100, 8)\n",
    "mean_embeddings = np.mean(vox_feat, axis=1)\n",
    "\n",
    "# Reshaping the result to a 2D array where each row represents one of the 80000 points\n",
    "# The new shape will be (80000, 8)\n",
    "# flatten\n",
    "flattened_embeddings = mean_embeddings.flatten()\n",
    "\n",
    "# Plotting the distribution of these means\n",
    "plt.figure(figsize=(10, 6))\n",
    "plt.hist(flattened_embeddings, bins=50, alpha=0.7, color='blue')\n",
    "plt.title('Distribution of Mean Embeddings')\n",
    "plt.xlabel('Mean Value')\n",
    "plt.ylabel('Frequency')\n",
    "plt.grid(True)\n",
    "plt.show()"
   ]
  },
  {
   "cell_type": "code",
   "execution_count": 3,
   "metadata": {},
   "outputs": [],
   "source": [
    "import plotly.graph_objects as go\n",
    "def vis_occ_plotly(\n",
    "    vis_aabb: List[Union[int, float]],\n",
    "    coords: np.array,\n",
    "    colors: np.array,\n",
    "    dynamic_coords: List[np.array] = None,\n",
    "    dynamic_colors: List[np.array] = None,\n",
    "    x_ratio: float = 1.0,\n",
    "    y_ratio: float = 1.0,\n",
    "    z_ratio: float = 0.125,\n",
    "    size: int = 5,\n",
    "    black_bg: bool = False,\n",
    "    title: str = None,\n",
    ") -> go.Figure:  # type: ignore\n",
    "    fig = go.Figure()  # start with an empty figure\n",
    "\n",
    "    # Add static trace\n",
    "    static_trace = go.Scatter3d(\n",
    "        x=coords[:, 0],\n",
    "        y=coords[:, 1],\n",
    "        z=coords[:, 2],\n",
    "        mode=\"markers\",\n",
    "        marker=dict(\n",
    "            size=size,\n",
    "            color=colors,\n",
    "            symbol=\"square\",\n",
    "        ),\n",
    "    )\n",
    "    fig.add_trace(static_trace)\n",
    "\n",
    "    # Add temporal traces\n",
    "    if dynamic_coords is not None:\n",
    "        for i in range(len(dynamic_coords)):\n",
    "            fig.add_trace(\n",
    "                go.Scatter3d(\n",
    "                    x=dynamic_coords[i][:, 0],\n",
    "                    y=dynamic_coords[i][:, 1],\n",
    "                    z=dynamic_coords[i][:, 2],\n",
    "                    mode=\"markers\",\n",
    "                    marker=dict(\n",
    "                        size=size,\n",
    "                        color=dynamic_colors[i],\n",
    "                        symbol=\"diamond\",\n",
    "                    ),\n",
    "                )\n",
    "            )\n",
    "        steps = []\n",
    "        for i in range(len(dynamic_coords)):\n",
    "            step = dict(\n",
    "                method=\"restyle\",\n",
    "                args=[\n",
    "                    \"visible\",\n",
    "                    [False] * (len(dynamic_coords) + 1),\n",
    "                ],  # Include the static trace\n",
    "                label=\"Second {}\".format(i),\n",
    "            )\n",
    "            step[\"args\"][1][0] = True  # Make the static trace always visible\n",
    "            step[\"args\"][1][i + 1] = True  # Toggle i'th temporal trace to \"visible\"\n",
    "            steps.append(step)\n",
    "\n",
    "        sliders = [\n",
    "            dict(\n",
    "                active=0,\n",
    "                pad={\"t\": 1},\n",
    "                steps=steps,\n",
    "                font=dict(color=\"white\") if black_bg else {},  # Update for font color\n",
    "            )\n",
    "        ]\n",
    "        fig.update_layout(sliders=sliders)\n",
    "    title_font_color = \"white\" if black_bg else \"black\"\n",
    "    if not black_bg:\n",
    "        fig.update_layout(\n",
    "            scene=dict(\n",
    "                xaxis=dict(\n",
    "                    title=\"x\",\n",
    "                    showspikes=False,\n",
    "                    range=[vis_aabb[0], vis_aabb[3]],\n",
    "                ),\n",
    "                yaxis=dict(\n",
    "                    title=\"y\",\n",
    "                    showspikes=False,\n",
    "                    range=[vis_aabb[1], vis_aabb[4]],\n",
    "                ),\n",
    "                zaxis=dict(\n",
    "                    title=\"z\",\n",
    "                    showspikes=False,\n",
    "                    range=[vis_aabb[2], vis_aabb[5]],\n",
    "                ),\n",
    "                aspectmode=\"manual\",\n",
    "                aspectratio=dict(x=x_ratio, y=y_ratio, z=z_ratio),\n",
    "            ),\n",
    "            margin=dict(r=0, b=10, l=0, t=10),\n",
    "            hovermode=False,\n",
    "            title=dict(\n",
    "                text=title,\n",
    "                font=dict(color=title_font_color),\n",
    "                x=0.5,\n",
    "                y=0.95,\n",
    "                xanchor=\"center\",\n",
    "                yanchor=\"top\",\n",
    "            )\n",
    "            if title\n",
    "            else None,  # Title addition\n",
    "        )\n",
    "    else:\n",
    "        fig.update_layout(\n",
    "            scene=dict(\n",
    "                xaxis=dict(\n",
    "                    title=\"x\",\n",
    "                    showspikes=False,\n",
    "                    range=[vis_aabb[0], vis_aabb[3]],\n",
    "                    backgroundcolor=\"rgb(0, 0, 0)\",\n",
    "                    gridcolor=\"gray\",\n",
    "                    showbackground=True,\n",
    "                    zerolinecolor=\"gray\",\n",
    "                    tickfont=dict(color=\"gray\"),\n",
    "                ),\n",
    "                yaxis=dict(\n",
    "                    title=\"y\",\n",
    "                    showspikes=False,\n",
    "                    range=[vis_aabb[1], vis_aabb[4]],\n",
    "                    backgroundcolor=\"rgb(0, 0, 0)\",\n",
    "                    gridcolor=\"gray\",\n",
    "                    showbackground=True,\n",
    "                    zerolinecolor=\"gray\",\n",
    "                    tickfont=dict(color=\"gray\"),\n",
    "                ),\n",
    "                zaxis=dict(\n",
    "                    title=\"z\",\n",
    "                    showspikes=False,\n",
    "                    range=[vis_aabb[2], vis_aabb[5]],\n",
    "                    backgroundcolor=\"rgb(0, 0, 0)\",\n",
    "                    gridcolor=\"gray\",\n",
    "                    showbackground=True,\n",
    "                    zerolinecolor=\"gray\",\n",
    "                    tickfont=dict(color=\"gray\"),\n",
    "                ),\n",
    "                aspectmode=\"manual\",\n",
    "                aspectratio=dict(x=x_ratio, y=y_ratio, z=z_ratio),\n",
    "            ),\n",
    "            margin=dict(r=0, b=10, l=0, t=10),\n",
    "            hovermode=False,\n",
    "            paper_bgcolor=\"black\",\n",
    "            plot_bgcolor=\"rgba(0,0,0,0)\",\n",
    "            title=dict(\n",
    "                text=title,\n",
    "                font=dict(color=title_font_color),\n",
    "                x=0.5,\n",
    "                y=0.95,\n",
    "                xanchor=\"center\",\n",
    "                yanchor=\"top\",\n",
    "            )\n",
    "            if title\n",
    "            else None,  # Title addition\n",
    "        )\n",
    "    return fig"
   ]
  },
  {
   "cell_type": "code",
   "execution_count": 4,
   "metadata": {},
   "outputs": [],
   "source": [
    "def voxel_coords_to_world_coords(\n",
    "    aabb_min: Union[Tensor, List[float]],\n",
    "    aabb_max: Union[Tensor, List[float]],\n",
    "    voxel_resolution: Union[Tensor, List[int]],\n",
    "    points: Union[Tensor, List[float]] = None,\n",
    ") -> Tensor:\n",
    "    aabb_min = torch.tensor(aabb_min) if isinstance(aabb_min, List) else aabb_min\n",
    "    aabb_max = torch.tensor(aabb_max) if isinstance(aabb_max, List) else aabb_max\n",
    "    voxel_resolution = (\n",
    "        torch.tensor(voxel_resolution)\n",
    "        if isinstance(voxel_resolution, List)\n",
    "        else voxel_resolution\n",
    "    )\n",
    "\n",
    "    if points is None:\n",
    "        x, y, z = torch.meshgrid(\n",
    "            torch.linspace(aabb_min[0], aabb_max[0], voxel_resolution[0]),\n",
    "            torch.linspace(aabb_min[1], aabb_max[1], voxel_resolution[1]),\n",
    "            torch.linspace(aabb_min[2], aabb_max[2], voxel_resolution[2]),\n",
    "        )\n",
    "        return torch.stack([x, y, z], dim=-1)\n",
    "    else:\n",
    "        points = torch.tensor(points) if isinstance(points, List) else points\n",
    "\n",
    "        # Compute voxel size\n",
    "        voxel_size = (aabb_max - aabb_min) / voxel_resolution\n",
    "\n",
    "        # Convert voxel coordinates to world coordinates\n",
    "        world_coords = aabb_min.to(points.device) + points * voxel_size.to(points.device)\n",
    "\n",
    "        return world_coords\n",
    "\n",
    "def world_coords_to_voxel_coords(\n",
    "    point: Union[Tensor, List[float]],\n",
    "    aabb_min: Union[Tensor, List[float]],\n",
    "    aabb_max: Union[Tensor, List[float]],\n",
    "    voxel_resolution: Union[Tensor, List[int]],\n",
    ") -> Tensor:\n",
    "    # Convert lists to tensors if necessary\n",
    "    point = torch.tensor(point) if isinstance(point, List) else point\n",
    "    aabb_min = torch.tensor(aabb_min) if isinstance(aabb_min, List) else aabb_min\n",
    "    aabb_max = torch.tensor(aabb_max) if isinstance(aabb_max, List) else aabb_max\n",
    "    voxel_resolution = (\n",
    "        torch.tensor(voxel_resolution)\n",
    "        if isinstance(voxel_resolution, List)\n",
    "        else voxel_resolution\n",
    "    )\n",
    "\n",
    "    # Compute the size of each voxel\n",
    "    voxel_size = (aabb_max - aabb_min) / voxel_resolution\n",
    "\n",
    "    # Compute the voxel index for the given point\n",
    "    voxel_idx = ((point - aabb_min) / voxel_size).long()\n",
    "\n",
    "    return voxel_idx"
   ]
  },
  {
   "cell_type": "code",
   "execution_count": 5,
   "metadata": {},
   "outputs": [],
   "source": [
    "with open('/home/jovyan/TPVFormer/data/nuscenes_infos_train_aug.pkl', 'rb') as f:\n",
    "    data = pickle.load(f)"
   ]
  },
  {
   "cell_type": "code",
   "execution_count": 6,
   "metadata": {},
   "outputs": [],
   "source": [
    "from nuscenes.nuscenes import NuScenes"
   ]
  },
  {
   "cell_type": "code",
   "execution_count": 7,
   "metadata": {},
   "outputs": [
    {
     "name": "stdout",
     "output_type": "stream",
     "text": [
      "======\n",
      "Loading NuScenes tables for version v1.0-trainval...\n"
     ]
    },
    {
     "ename": "",
     "evalue": "",
     "output_type": "error",
     "traceback": [
      "\u001b[1;31mThe Kernel crashed while executing code in the the current cell or a previous cell. Please review the code in the cell(s) to identify a possible cause of the failure. Click <a href='https://aka.ms/vscodeJupyterKernelCrash'>here</a> for more info. View Jupyter <a href='command:jupyter.viewOutput'>log</a> for further details."
     ]
    }
   ],
   "source": [
    "nusc = NuScenes(version='v1.0-trainval', dataroot='/home/jovyan/TPVFormer/data/nuscenes', verbose=True)"
   ]
  },
  {
   "cell_type": "code",
   "execution_count": null,
   "metadata": {},
   "outputs": [],
   "source": [
    "img_metas = data['infos'][10]\n",
    "grid_size = [100,100,8]"
   ]
  },
  {
   "cell_type": "code",
   "execution_count": 70,
   "metadata": {},
   "outputs": [],
   "source": [
    "scene_token = img_metas['scene_token']\n",
    "base_nerf_save_dir = \"/lpai/volumes/perception/qyx/nusc_nerf/dino_feat\"\n",
    "base_nerf_save_scene_dir = os.path.join(base_nerf_save_dir, scene_token)\n",
    "color_PCA_path = os.path.join(base_nerf_save_scene_dir, 'pca_reduction.npy')\n",
    "color_PCA = torch.from_numpy(np.load(color_PCA_path))\n",
    "nerf_meta_path = os.path.join(base_nerf_save_scene_dir, 'metadata.json')\n",
    "import json\n",
    "with open(nerf_meta_path, 'r') as f:\n",
    "    nerf_meta = json.load(f)"
   ]
  },
  {
   "cell_type": "code",
   "execution_count": 71,
   "metadata": {},
   "outputs": [],
   "source": [
    "nerf_dino_feat_path = img_metas['nerf_dino_feat_path']\n",
    "nerf_voxel_coords_path = img_metas['nerf_voxel_coords_path']\n",
    "nerf_dino_feat = torch.from_numpy(np.load(nerf_dino_feat_path))\n",
    "nerf_voxel_coords = torch.from_numpy(np.load(nerf_voxel_coords_path))"
   ]
  },
  {
   "cell_type": "code",
   "execution_count": 72,
   "metadata": {},
   "outputs": [],
   "source": [
    "max_bound = torch.Tensor([51.2,51.2,3])  # 51.2 51.2 3\n",
    "min_bound = torch.Tensor([-51.2,-51.2,-5])  # -51.2 -51.2 -5"
   ]
  },
  {
   "cell_type": "code",
   "execution_count": 73,
   "metadata": {},
   "outputs": [],
   "source": [
    "nerf_voxel_resolution_scene = img_metas['nerf_voxel_resolution']\n",
    "nerf_aabb_min_scene = torch.Tensor(img_metas['nerf_aabb_min'])\n",
    "nerf_aabb_max_scene = torch.Tensor(img_metas['nerf_aabb_max'])\n",
    "lidar_to_first_nerf_ego_transform = torch.Tensor(img_metas['lidar_to_first_ego_transform'])"
   ]
  },
  {
   "cell_type": "code",
   "execution_count": 74,
   "metadata": {},
   "outputs": [],
   "source": [
    "nerf_voxel_coords_world = voxel_coords_to_world_coords(nerf_aabb_min_scene, nerf_aabb_max_scene, nerf_voxel_resolution_scene, nerf_voxel_coords)"
   ]
  },
  {
   "cell_type": "code",
   "execution_count": 75,
   "metadata": {},
   "outputs": [],
   "source": [
    "aabb_length_scene = nerf_aabb_max_scene - nerf_aabb_min_scene\n",
    "#concat\n",
    "aabb = torch.cat([nerf_aabb_min_scene, nerf_aabb_max_scene], dim=0)"
   ]
  },
  {
   "cell_type": "code",
   "execution_count": 78,
   "metadata": {},
   "outputs": [],
   "source": [
    "nerf_world_coords_homo = torch.cat((nerf_voxel_coords_world, torch.ones(nerf_voxel_coords_world.shape[0], 1)), dim=1)"
   ]
  },
  {
   "cell_type": "code",
   "execution_count": 79,
   "metadata": {},
   "outputs": [],
   "source": [
    "nerf_world_coords_extended_lidar_t_sample = (nerf_world_coords_homo @ torch.inverse(lidar_to_first_nerf_ego_transform).T)[:,:3]"
   ]
  },
  {
   "cell_type": "code",
   "execution_count": 80,
   "metadata": {},
   "outputs": [],
   "source": [
    "# Create a mask for each condition\n",
    "mask_x = (nerf_world_coords_extended_lidar_t_sample[:, 0] >= min_bound[0]) & (nerf_world_coords_extended_lidar_t_sample[:, 0] <= max_bound[0])\n",
    "mask_y = (nerf_world_coords_extended_lidar_t_sample[:, 1] >= min_bound[1]) & (nerf_world_coords_extended_lidar_t_sample[:, 1] <= max_bound[1])\n",
    "mask_z = (nerf_world_coords_extended_lidar_t_sample[:, 2] >= min_bound[2]) & (nerf_world_coords_extended_lidar_t_sample[:, 2] <= max_bound[2])\n",
    "\n",
    "# Combine masks to identify rows that meet all conditions\n",
    "mask = mask_x & mask_y & mask_z\n",
    "\n",
    "# Apply the mask to filter the tensors\n",
    "filtered_nerf_sample_world_coords = nerf_world_coords_extended_lidar_t_sample[mask]\n",
    "filtered_nerf_sample_feats = nerf_dino_feat[mask]"
   ]
  },
  {
   "cell_type": "code",
   "execution_count": 81,
   "metadata": {},
   "outputs": [],
   "source": [
    "filtered_nerf_sample_vox_coords = world_coords_to_voxel_coords(filtered_nerf_sample_world_coords, min_bound, max_bound, grid_size)"
   ]
  },
  {
   "cell_type": "code",
   "execution_count": 82,
   "metadata": {},
   "outputs": [],
   "source": [
    "filtered_nerf_voxels_dino_feature_sample = torch.zeros((*grid_size, 64))\n",
    "filtered_nerf_voxels_dino_feature_sample[filtered_nerf_sample_world_coords[...,0].long(),filtered_nerf_sample_world_coords[...,1].long(),filtered_nerf_sample_world_coords[...,2].long()] = filtered_nerf_sample_feats\n",
    "filtered_nerf_voxels_dino_feature_sample = filtered_nerf_voxels_dino_feature_sample.permute(3,0,1,2) # (embed_dim, x, y, z)"
   ]
  },
  {
   "cell_type": "code",
   "execution_count": 83,
   "metadata": {},
   "outputs": [],
   "source": [
    "aabb_length = max_bound - min_bound"
   ]
  },
  {
   "cell_type": "code",
   "execution_count": 84,
   "metadata": {},
   "outputs": [],
   "source": [
    "figure_white = vis_occ_plotly(vis_aabb=np.array([-51.2,-51.2,-5,51.2,51.2,3]), coords=filtered_nerf_sample_world_coords.cpu().numpy(), colors=torch.ones((filtered_nerf_sample_world_coords.shape[0], 3)).cpu().numpy(), x_ratio=1, y_ratio=(aabb_length[1] / aabb_length[0]).item(), z_ratio=(aabb_length[2] / aabb_length[0]).item(), size=3, black_bg=True, title=\"Debug NeRF Feat\", )"
   ]
  },
  {
   "cell_type": "code",
   "execution_count": 92,
   "metadata": {},
   "outputs": [],
   "source": [
    "# Retrieve the sample data\n",
    "sample = nusc.get('sample', img_metas['token'])\n",
    "\n",
    "# Get the LiDAR data token\n",
    "lidar_token = sample['data']['LIDAR_TOP']\n",
    "\n",
    "# Load LiDAR data\n",
    "lidar_data = nusc.get('sample_data', lidar_token)\n",
    "lidar_filepath = nusc.get_sample_data_path(lidar_token)\n",
    "\n",
    "# Load the point cloud\n",
    "from nuscenes.utils.data_classes import LidarPointCloud\n",
    "lidar_points = LidarPointCloud.from_file(lidar_filepath).points.T"
   ]
  },
  {
   "cell_type": "code",
   "execution_count": 93,
   "metadata": {},
   "outputs": [],
   "source": [
    "mask = (\n",
    "    (lidar_points[:, 0] >= -51.2) & (lidar_points[:, 0] <= 51.2) &\n",
    "    (lidar_points[:, 1] >= -51.2) & (lidar_points[:, 1] <= 51.2) &\n",
    "    (lidar_points[:, 2] >= -5) & (lidar_points[:, 2] <= 3)\n",
    ")\n",
    "filtered_lidar_points = lidar_points[mask, :3]  # Exclude the reflectance\n",
    "\n",
    "# Convert filtered_lidar_points to a PyTorch tensor and augment it\n",
    "filtered_lidar_points_tensor = torch.tensor(filtered_lidar_points)"
   ]
  },
  {
   "cell_type": "code",
   "execution_count": 97,
   "metadata": {},
   "outputs": [],
   "source": [
    "red_color = torch.tensor([[1, 0, 0]] * filtered_lidar_points_tensor.shape[0])\n",
    "locations = torch.cat([filtered_nerf_sample_world_coords, filtered_lidar_points_tensor], dim=0)\n",
    "colors_features = torch.cat([torch.ones((filtered_nerf_sample_world_coords.shape[0], 3)), red_color], dim=0)"
   ]
  },
  {
   "cell_type": "code",
   "execution_count": 101,
   "metadata": {},
   "outputs": [],
   "source": [
    "figure_white_lidar = vis_occ_plotly(vis_aabb=np.array([-51.2,-51.2,-5,51.2,51.2,3]), coords=locations.cpu().numpy(), colors=colors_features.numpy(), x_ratio=1, y_ratio=(aabb_length[1] / aabb_length[0]).item(), z_ratio=(aabb_length[2] / aabb_length[0]).item(), size=3, black_bg=True, title=\"Debug NeRF Feat\", )"
   ]
  },
  {
   "cell_type": "code",
   "execution_count": 102,
   "metadata": {},
   "outputs": [],
   "source": [
    "figure_white_lidar.write_html(f\"/home/jovyan/TPVFormer/debug_nerf_sample_lidar.html\")"
   ]
  },
  {
   "cell_type": "code",
   "execution_count": 85,
   "metadata": {},
   "outputs": [],
   "source": [
    "colors_features = filtered_nerf_sample_feats @ color_PCA\n",
    "colors_features = (colors_features - torch.Tensor(nerf_meta['color_min'])) / (torch.Tensor(nerf_meta['color_max']) - torch.Tensor(nerf_meta['color_min']))\n",
    "colors_features = torch.clamp(colors_features, 0, 1)\n",
    "\n",
    "figure_PCA_color = vis_occ_plotly(vis_aabb=np.array([-51.2,-51.2,-5,51.2,51.2,3]), coords=filtered_nerf_sample_world_coords.cpu().numpy(), colors=colors_features.numpy(), x_ratio=1, y_ratio=(aabb_length[1] / aabb_length[0]).item(), z_ratio=(aabb_length[2] / aabb_length[0]).item(), size=3, black_bg=True, title=\"Debug NeRF Feat\", )"
   ]
  },
  {
   "cell_type": "code",
   "execution_count": 86,
   "metadata": {},
   "outputs": [],
   "source": [
    "figure_PCA_color.write_html(f\"/home/jovyan/TPVFormer/debug_nerf_sample_PCA_color.html\")"
   ]
  },
  {
   "cell_type": "code",
   "execution_count": 91,
   "metadata": {},
   "outputs": [
    {
     "data": {
      "image/png": "[encoded data removed]",
      "text/plain": [
       "<Figure size 720x720 with 1 Axes>"
      ]
     },
     "metadata": {
      "needs_background": "light"
     },
     "output_type": "display_data"
    }
   ],
   "source": [
    "from nuscenes.nuscenes import NuScenes\n",
    "from nuscenes.utils.data_classes import LidarPointCloud\n",
    "from nuscenes.utils.geometry_utils import view_points\n",
    "import matplotlib.pyplot as plt\n",
    "import numpy as np\n",
    "\n",
    "# Initialize the NuScenes object\n",
    "# Replace 'path_to_nuscenes_data' with your actual data path\n",
    "\n",
    "# Find the desired scene\n",
    "scene_token = 'd3d94f2ce3dc4db4b3ba6f4aa81c3987'\n",
    "scene = nusc.get('scene', scene_token)\n",
    "\n",
    "# Get the first sample of the scene\n",
    "first_sample_token = scene['first_sample_token']\n",
    "sample = nusc.get('sample', first_sample_token)\n",
    "\n",
    "# BEV map function\n",
    "def draw_bev_map(sample_data_token, axes_limit=51.2):\n",
    "    # Get sample data\n",
    "    sample_data = nusc.get('sample_data', sample_data_token)\n",
    "    sensor_token = sample_data['calibrated_sensor_token']\n",
    "    sensor = nusc.get('calibrated_sensor', sensor_token)\n",
    "\n",
    "    # Load point cloud\n",
    "    pc = LidarPointCloud.from_file(nusc.get_sample_data_path(sample_data_token))\n",
    "\n",
    "    # Convert quaternion to rotation matrix\n",
    "    rotation_matrix = Quaternion(sensor['rotation']).rotation_matrix\n",
    "\n",
    "    pc.rotate(rotation_matrix)\n",
    "    pc.translate(np.array(sensor['translation']))\n",
    "\n",
    "    # Transform to BEV space\n",
    "    points = view_points(pc.points[:3, :], np.eye(4), normalize=False)\n",
    "    points = points.T\n",
    "\n",
    "    # Filter points to a certain area for better visualization\n",
    "    mask = np.ones(points.shape[0], dtype=bool)\n",
    "    mask &= points[:, 0] > -axes_limit\n",
    "    mask &= points[:, 0] < axes_limit\n",
    "    mask &= points[:, 1] > -axes_limit\n",
    "    mask &= points[:, 1] < axes_limit\n",
    "\n",
    "    points = points[mask]\n",
    "\n",
    "    # Plot BEV map with x and y swapped\n",
    "    plt.scatter(points[:, 1], points[:, 0], s=0.1)  # Swapping x and y here\n",
    "    plt.xlim(-axes_limit, axes_limit)\n",
    "    plt.ylim(-axes_limit, axes_limit)\n",
    "    plt.xlabel('X [m]')\n",
    "    plt.ylabel('Y [m]')\n",
    "    plt.grid(True)\n",
    "\n",
    "# Draw the BEV map for the first LIDAR sample in the scene\n",
    "lidar_token = sample['data']['LIDAR_TOP']\n",
    "plt.figure(figsize=(10, 10))\n",
    "draw_bev_map(lidar_token)\n",
    "plt.show()\n"
   ]
  },
  {
   "cell_type": "code",
   "execution_count": 81,
   "metadata": {},
   "outputs": [],
   "source": [
    "transformation_matrix = torch.tensor(\n",
    "[[-1.94867556e-02,  9.99789967e-01,  6.34724044e-03, 6.31296036e+01],\n",
    "[-9.99741356e-01, -1.95594759e-02,  1.16038330e-02, -1.68145031e+00],\n",
    "[ 1.17255445e-02, -6.11947771e-03,  9.99912528e-01, 2.43236835e+00],\n",
    "[ 0.00000000e+00,  0.00000000e+00,  0.00000000e+00, 1.00000000e+00]], dtype=torch.float32)"
   ]
  },
  {
   "cell_type": "code",
   "execution_count": 92,
   "metadata": {},
   "outputs": [
    {
     "data": {
      "text/plain": [
       "tensor([63.1296, -1.6815,  2.4324,  1.0000])"
      ]
     },
     "execution_count": 92,
     "metadata": {},
     "output_type": "execute_result"
    }
   ],
   "source": [
    "(torch.Tensor([0,0,0,1]) @ transformation_matrix.T)"
   ]
  },
  {
   "cell_type": "code",
   "execution_count": 96,
   "metadata": {},
   "outputs": [
    {
     "data": {
      "text/plain": [
       "tensor([ 1.2251, -9.9919,  1.7708,  1.0000])"
      ]
     },
     "execution_count": 96,
     "metadata": {},
     "output_type": "execute_result"
    }
   ],
   "source": [
    "lidar_to_first_nerf_ego_transform @ torch.Tensor([10,0,0,1])"
   ]
  },
  {
   "cell_type": "code",
   "execution_count": 74,
   "metadata": {},
   "outputs": [
    {
     "data": {
      "text/plain": [
       "tensor([ 0.2491, 19.9923,  0.4948, 23.0102])"
      ]
     },
     "execution_count": 74,
     "metadata": {},
     "output_type": "execute_result"
    }
   ],
   "source": [
    "torch.Tensor([20,0,0,1]) @ lidar_to_first_nerf_ego_transform"
   ]
  },
  {
   "cell_type": "code",
   "execution_count": 102,
   "metadata": {},
   "outputs": [],
   "source": [
    "def transform_matrix(translation, rotation):\n",
    "    \"\"\"Compute transformation matrix given translation and rotation (in quaternion).\"\"\"\n",
    "    transform = np.eye(4)\n",
    "    transform[:3, :3] = Quaternion(rotation).rotation_matrix\n",
    "    transform[:3, 3] = translation\n",
    "    return transform\n",
    "\n",
    "def get_global_to_ego_matrix(ego_pose):\n",
    "    ego_to_global = np.eye(4)\n",
    "    ego_to_global[:3, :3] = Quaternion(ego_pose[\"rotation\"]).rotation_matrix\n",
    "    ego_to_global[:3, 3] = ego_pose[\"translation\"]\n",
    "    return np.linalg.inv(ego_to_global)\n",
    "\n",
    "def get_transformation_to_first_ego(nusc, sample_token):\n",
    "    sample = nusc.get('sample', sample_token)\n",
    "    scene_token = sample['scene_token']\n",
    "\n",
    "    # Get the first sample of the scene\n",
    "    scene = nusc.get('scene', scene_token)\n",
    "    first_sample_token = scene[\"first_sample_token\"]\n",
    "    first_sample = nusc.get(\"sample\", first_sample_token)\n",
    "    current_camera_data_token = first_sample[\"data\"][\"CAM_FRONT\"]\n",
    "    camera_data_dict = nusc.get(\"sample_data\", current_camera_data_token)\n",
    "    initial_ego_pose = nusc.get(\"ego_pose\", camera_data_dict[\"ego_pose_token\"])\n",
    "    global_to_initial_ego_matrix = get_global_to_ego_matrix(initial_ego_pose)\n",
    "\n",
    "    # Get the lidar_top data\n",
    "    current_lidar_data_token = sample[\"data\"][\"LIDAR_TOP\"]\n",
    "    current_lidar_data = nusc.get(\"sample_data\", current_lidar_data_token)\n",
    "    # 1. lidar --> current ego pose\n",
    "    lidar_intrinsic = nusc.get(\n",
    "        \"calibrated_sensor\", current_lidar_data[\"calibrated_sensor_token\"]\n",
    "    )\n",
    "    lidar_to_ego = np.eye(4)\n",
    "    lidar_to_ego[:3, :3] = Quaternion(\n",
    "        lidar_intrinsic[\"rotation\"]\n",
    "    ).rotation_matrix\n",
    "    lidar_to_ego[:3, 3] = np.array(lidar_intrinsic[\"translation\"])\n",
    "    # 2. current ego pose --> global pose\n",
    "    # Construct the transformation matrix for this timestamp\n",
    "    ego_pose = nusc.get(\"ego_pose\", current_lidar_data[\"ego_pose_token\"])\n",
    "    ego_to_global_matrix = np.eye(4)\n",
    "    ego_to_global_matrix[:3, :3] = Quaternion(\n",
    "        ego_pose[\"rotation\"]\n",
    "    ).rotation_matrix\n",
    "    ego_to_global_matrix[:3, 3] = np.array(ego_pose[\"translation\"])\n",
    "    # 3. global pose --> ego pose at t=0\n",
    "    return global_to_initial_ego_matrix, ego_to_global_matrix, lidar_to_ego, global_to_initial_ego_matrix @ ego_to_global_matrix @ lidar_to_ego"
   ]
  },
  {
   "cell_type": "code",
   "execution_count": 98,
   "metadata": {},
   "outputs": [
    {
     "data": {
      "text/plain": [
       "'e93e98b63d3b40209056d129dc53ceee'"
      ]
     },
     "execution_count": 98,
     "metadata": {},
     "output_type": "execute_result"
    }
   ],
   "source": [
    "img_metas['token']"
   ]
  },
  {
   "cell_type": "code",
   "execution_count": 103,
   "metadata": {},
   "outputs": [],
   "source": [
    "global_to_initial_ego_matrix, ego_to_global_matrix, lidar_to_ego, lidar_to_first_nerf_ego_transform = get_transformation_to_first_ego(nusc, img_metas['token'])"
   ]
  },
  {
   "cell_type": "code",
   "execution_count": 127,
   "metadata": {},
   "outputs": [
    {
     "data": {
      "text/plain": [
       "tensor([ 0.1560, -0.0016, -0.0036,  1.0000])"
      ]
     },
     "execution_count": 127,
     "metadata": {},
     "output_type": "execute_result"
    }
   ],
   "source": [
    "torch.Tensor(global_to_initial_ego_matrix) @ torch.Tensor(ego_to_global_matrix) @ torch.Tensor([0,0,0,1])"
   ]
  },
  {
   "cell_type": "code",
   "execution_count": null,
   "metadata": {},
   "outputs": [],
   "source": []
  }
 ],
 "metadata": {
  "kernelspec": {
   "display_name": "base",
   "language": "python",
   "name": "python3"
  },
  "language_info": {
   "codemirror_mode": {
    "name": "ipython",
    "version": 3
   },
   "file_extension": ".py",
   "mimetype": "text/x-python",
   "name": "python",
   "nbconvert_exporter": "python",
   "pygments_lexer": "ipython3",
   "version": "3.8.10"
  }
 },
 "nbformat": 4,
 "nbformat_minor": 2
}
